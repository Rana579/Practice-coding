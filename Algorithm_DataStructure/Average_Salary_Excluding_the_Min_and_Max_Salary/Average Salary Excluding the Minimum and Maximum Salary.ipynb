{
 "cells": [
  {
   "cell_type": "code",
   "execution_count": null,
   "metadata": {},
   "outputs": [],
   "source": [
    "class Solution(object):\n",
    "    def average(self, salary):\n",
    "        \"\"\"\n",
    "        :type salary: List[int]\n",
    "        :rtype: float\n",
    "        \"\"\"\n",
    "        mi=min(salary)\n",
    "        ma=max(salary)\n",
    "        a=0.0\n",
    "        \n",
    "        for i in salary:\n",
    "            if (i!= mi and i!=ma):\n",
    "                a=a+i\n",
    "               \n",
    "        return(a/(len(salary)-2) )"
   ]
  }
 ],
 "metadata": {
  "kernelspec": {
   "display_name": "Python 3",
   "language": "python",
   "name": "python3"
  },
  "language_info": {
   "codemirror_mode": {
    "name": "ipython",
    "version": 3
   },
   "file_extension": ".py",
   "mimetype": "text/x-python",
   "name": "python",
   "nbconvert_exporter": "python",
   "pygments_lexer": "ipython3",
   "version": "3.7.4"
  }
 },
 "nbformat": 4,
 "nbformat_minor": 2
}
