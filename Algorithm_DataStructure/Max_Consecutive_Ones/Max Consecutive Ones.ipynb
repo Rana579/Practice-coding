{
 "cells": [
  {
   "cell_type": "code",
   "execution_count": null,
   "metadata": {},
   "outputs": [],
   "source": [
    "class Solution(object):\n",
    "    def findMaxConsecutiveOnes(self, nums):\n",
    "        \"\"\"\n",
    "        :type nums: List[int]\n",
    "        :rtype: int\n",
    "        \"\"\"\n",
    "        x=[0]*(len(nums))\n",
    "        j=0\n",
    "        for i in range(len(nums)):\n",
    "            if nums[i]==1:\n",
    "                x[j]= x[j]+1\n",
    "            else:\n",
    "                j=j+1\n",
    "        \n",
    "        return max(x)"
   ]
  }
 ],
 "metadata": {
  "kernelspec": {
   "display_name": "Python 3",
   "language": "python",
   "name": "python3"
  },
  "language_info": {
   "codemirror_mode": {
    "name": "ipython",
    "version": 3
   },
   "file_extension": ".py",
   "mimetype": "text/x-python",
   "name": "python",
   "nbconvert_exporter": "python",
   "pygments_lexer": "ipython3",
   "version": "3.7.4"
  }
 },
 "nbformat": 4,
 "nbformat_minor": 2
}
