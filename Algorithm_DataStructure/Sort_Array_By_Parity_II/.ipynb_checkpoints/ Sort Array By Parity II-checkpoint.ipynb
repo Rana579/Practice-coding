{
 "cells": [
  {
   "cell_type": "code",
   "execution_count": null,
   "metadata": {},
   "outputs": [],
   "source": [
    "class Solution(object):\n",
    "    def sortArrayByParityII(self, A):\n",
    "        \"\"\"\n",
    "        :type A: List[int]\n",
    "        :rtype: List[int]\n",
    "        \"\"\"\n",
    "        l=[0]*len(A)\n",
    "        e=0\n",
    "        o=1\n",
    "        for i in A:\n",
    "          if i%2 ==0:\n",
    "             l[e]=i\n",
    "             e+=2\n",
    "          else:\n",
    "             l[o]=i\n",
    "             o+=2\n",
    "        A=l[:]\n",
    "        return(A)\n",
    "        "
   ]
  }
 ],
 "metadata": {
  "kernelspec": {
   "display_name": "Python 3",
   "language": "python",
   "name": "python3"
  },
  "language_info": {
   "codemirror_mode": {
    "name": "ipython",
    "version": 3
   },
   "file_extension": ".py",
   "mimetype": "text/x-python",
   "name": "python",
   "nbconvert_exporter": "python",
   "pygments_lexer": "ipython3",
   "version": "3.7.4"
  }
 },
 "nbformat": 4,
 "nbformat_minor": 2
}
